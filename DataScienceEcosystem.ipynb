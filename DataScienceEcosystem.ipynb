{
 "cells": [
  {
   "cell_type": "markdown",
   "id": "b5d3860f",
   "metadata": {},
   "source": [
    "# Data Science Tools and Ecosystem"
   ]
  },
  {
   "cell_type": "markdown",
   "id": "1db12a38",
   "metadata": {},
   "source": [
    "In this notebook, Data Science Tools and Ecosystem are summarized."
   ]
  },
  {
   "cell_type": "markdown",
   "id": "887915a0",
   "metadata": {},
   "source": [
    "**Objectives:**\n",
    "* Data Science Languages\n",
    "* Data Science Libraries\n",
    "* Arithmetic Expressions"
   ]
  },
  {
   "cell_type": "markdown",
   "id": "e621779f",
   "metadata": {},
   "source": [
    "Popular Data Science languages include:\n",
    "1. R\n",
    "2. Python \n",
    "3. Julia"
   ]
  },
  {
   "cell_type": "markdown",
   "id": "c1b077df",
   "metadata": {},
   "source": [
    "Some commonly used Data Science libraries include:\n",
    "1. Pandas\n",
    "2. Seaborn\n",
    "3. Numpy"
   ]
  },
  {
   "cell_type": "markdown",
   "id": "1d04b087",
   "metadata": {},
   "source": [
    "|Data Science Tools|\n",
    "|-----|\n",
    "|Anacodna|\n",
    "|Jupyter|\n",
    "|Spyder|"
   ]
  },
  {
   "cell_type": "markdown",
   "id": "b71cb568",
   "metadata": {},
   "source": [
    "### Below are a few examples of evaluating arithmetic expressions in Python"
   ]
  },
  {
   "cell_type": "code",
   "execution_count": 5,
   "id": "ecd00b3a",
   "metadata": {},
   "outputs": [
    {
     "data": {
      "text/plain": [
       "17"
      ]
     },
     "execution_count": 5,
     "metadata": {},
     "output_type": "execute_result"
    }
   ],
   "source": [
    "#simple arithmetic expression to multiply and add integers\n",
    "x=3\n",
    "y=4\n",
    "z=5\n",
    "(x * y) + z"
   ]
  },
  {
   "cell_type": "code",
   "execution_count": 6,
   "id": "a80ad07c",
   "metadata": {},
   "outputs": [
    {
     "data": {
      "text/plain": [
       "3.3333333333333335"
      ]
     },
     "execution_count": 6,
     "metadata": {},
     "output_type": "execute_result"
    }
   ],
   "source": [
    "#This will convert 200 minutes to hours by diving by 60\n",
    "minutes = 200\n",
    "hours = minutes/60\n",
    "hours"
   ]
  },
  {
   "cell_type": "markdown",
   "id": "a2039592",
   "metadata": {},
   "source": [
    "## Author\n",
    "Chris"
   ]
  },
  {
   "cell_type": "code",
   "execution_count": null,
   "id": "aa3ec65a",
   "metadata": {},
   "outputs": [],
   "source": []
  }
 ],
 "metadata": {
  "kernelspec": {
   "display_name": "Python 3 (ipykernel)",
   "language": "python",
   "name": "python3"
  },
  "language_info": {
   "codemirror_mode": {
    "name": "ipython",
    "version": 3
   },
   "file_extension": ".py",
   "mimetype": "text/x-python",
   "name": "python",
   "nbconvert_exporter": "python",
   "pygments_lexer": "ipython3",
   "version": "3.9.13"
  }
 },
 "nbformat": 4,
 "nbformat_minor": 5
}
